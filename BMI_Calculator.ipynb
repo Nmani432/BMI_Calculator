{
 "cells": [
  {
   "cell_type": "markdown",
   "id": "954ad699-d309-4433-b031-7158eae4a67f",
   "metadata": {},
   "source": [
    "# BMI Calculator"
   ]
  },
  {
   "cell_type": "code",
   "execution_count": 1,
   "id": "600e7b04-3533-4775-a2fe-7591b72d38b9",
   "metadata": {},
   "outputs": [
    {
     "name": "stdout",
     "output_type": "stream",
     "text": [
      "Enter your name:  Manisha\n"
     ]
    }
   ],
   "source": [
    "name = input(\"Enter your name: \")"
   ]
  },
  {
   "cell_type": "code",
   "execution_count": 3,
   "id": "344148f9-0eb9-4500-8f5e-a06e71ea952c",
   "metadata": {},
   "outputs": [
    {
     "name": "stdout",
     "output_type": "stream",
     "text": [
      "Manisha\n"
     ]
    }
   ],
   "source": [
    "print(name)"
   ]
  },
  {
   "cell_type": "code",
   "execution_count": 5,
   "id": "3f9f346c-4cd7-47a8-8747-bc206c10a789",
   "metadata": {},
   "outputs": [
    {
     "name": "stdout",
     "output_type": "stream",
     "text": [
      "Enter your name:  Manisha\n",
      "Enter your weight in pounds:  92\n",
      "Enter your height in inches:  60\n"
     ]
    }
   ],
   "source": [
    "name = input(\"Enter your name: \")\n",
    "weight = int(input(\"Enter your weight in pounds: \"))\n",
    "height = int(input(\"Enter your height in inches: \"))"
   ]
  },
  {
   "cell_type": "code",
   "execution_count": 7,
   "id": "71da214e-7c3c-437d-9285-b5dac6780914",
   "metadata": {},
   "outputs": [
    {
     "name": "stdout",
     "output_type": "stream",
     "text": [
      "Manisha 92 60\n"
     ]
    }
   ],
   "source": [
    "print(name, weight, height)"
   ]
  },
  {
   "cell_type": "code",
   "execution_count": 9,
   "id": "2e79c884-dd8a-41d8-ae43-fb8d99595b61",
   "metadata": {},
   "outputs": [
    {
     "name": "stdout",
     "output_type": "stream",
     "text": [
      "Enter your name:  Manisha\n",
      "Enter your weight in pounds:  92\n",
      "Enter your height in inches:  60\n"
     ]
    },
    {
     "name": "stdout",
     "output_type": "stream",
     "text": [
      "17.965555555555557\n"
     ]
    }
   ],
   "source": [
    "name = input(\"Enter your name: \")\n",
    "weight = int(input(\"Enter your weight in pounds: \"))\n",
    "height = int(input(\"Enter your height in inches: \"))\n",
    "BMI = (weight * 703) / (height * height)\n",
    "print(BMI)"
   ]
  },
  {
   "cell_type": "code",
   "execution_count": 15,
   "id": "0f85b2e8-687a-4e2d-85de-4963889e4ff2",
   "metadata": {},
   "outputs": [
    {
     "name": "stdout",
     "output_type": "stream",
     "text": [
      "Manisha, You are underweight\n"
     ]
    }
   ],
   "source": [
    "if (BMI > 0):\n",
    "    if (BMI < 18.5):\n",
    "        print(name + \", You are underweight\")\n",
    "    elif (BMI < 24.5):\n",
    "        print(name + \", You are normal weight\")\n",
    "    elif (BMI < 29.9):\n",
    "        print(name + \", You are overweight\")\n",
    "    elif (BMI < 34.9):\n",
    "        print(name + \", You are obese\")\n",
    "    elif (BMI < 39.9):\n",
    "        print(name + \", You are severely obese\")\n",
    "    else:\n",
    "        print(name + \", You are morbidly obese\")\n",
    "else:\n",
    "    print(\"Enter the valid input\")\n",
    "    "
   ]
  },
  {
   "cell_type": "code",
   "execution_count": 17,
   "id": "1a93e1a6-241a-4abc-8db6-273a2cc6172b",
   "metadata": {
    "scrolled": true
   },
   "outputs": [
    {
     "name": "stdout",
     "output_type": "stream",
     "text": [
      "Enter your name:  Manisha\n",
      "Enter your weight in pounds:  92\n",
      "Enter your height in inches:  60\n"
     ]
    },
    {
     "name": "stdout",
     "output_type": "stream",
     "text": [
      "Your BMI is  17.965555555555557\n",
      "Manisha, You are underweight\n"
     ]
    }
   ],
   "source": [
    "name = input(\"Enter your name: \")\n",
    "weight = int(input(\"Enter your weight in pounds: \"))\n",
    "height = int(input(\"Enter your height in inches: \"))\n",
    "BMI = (weight * 703) / (height * height)\n",
    "print(\"Your BMI is \", BMI)\n",
    "\n",
    "\n",
    "if (BMI > 0):\n",
    "    if (BMI < 18.5):\n",
    "        print(name + \", You are underweight\")\n",
    "    elif (BMI < 24.5):\n",
    "        print(name + \", You are normal weight\")\n",
    "    elif (BMI < 29.9):\n",
    "        print(name + \", You are overweight\")\n",
    "    elif (BMI < 34.9):\n",
    "        print(name + \", You are obese\")\n",
    "    elif (BMI < 39.9):\n",
    "        print(name + \", You are severely obese\")\n",
    "    else:\n",
    "        print(name + \", You are morbidly obese\")\n",
    "else:\n",
    "    print(\"Enter the valid input\")"
   ]
  },
  {
   "cell_type": "code",
   "execution_count": null,
   "id": "a2ec20d8-fb6f-4a6c-a581-cf18a8766f87",
   "metadata": {},
   "outputs": [],
   "source": []
  }
 ],
 "metadata": {
  "kernelspec": {
   "display_name": "Python 3 (ipykernel)",
   "language": "python",
   "name": "python3"
  },
  "language_info": {
   "codemirror_mode": {
    "name": "ipython",
    "version": 3
   },
   "file_extension": ".py",
   "mimetype": "text/x-python",
   "name": "python",
   "nbconvert_exporter": "python",
   "pygments_lexer": "ipython3",
   "version": "3.12.7"
  }
 },
 "nbformat": 4,
 "nbformat_minor": 5
}
